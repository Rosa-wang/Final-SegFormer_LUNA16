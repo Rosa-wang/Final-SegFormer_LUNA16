{
 "cells": [
  {
   "cell_type": "code",
   "execution_count": 15,
   "metadata": {},
   "outputs": [],
   "source": [
    "%matplotlib inline\n",
    "import SimpleITK as sitk\n",
    "import numpy as np\n",
    "import csv\n",
    "from glob import glob\n",
    "import pandas as pd\n",
    "import matplotlib.pyplot as plt\n",
    "import os\n",
    "from tqdm import tqdm_notebook as tq\n",
    "import plotly.io as pio\n",
    "pio.renderers.default = 'notebook'\n"
   ]
  },
  {
   "cell_type": "code",
   "execution_count": 16,
   "metadata": {},
   "outputs": [],
   "source": [
    "def get_filename(case):\n",
    "    global file_list\n",
    "    for f in file_list:\n",
    "        if case in f:\n",
    "            return(f)"
   ]
  },
  {
   "cell_type": "code",
   "execution_count": 17,
   "metadata": {},
   "outputs": [],
   "source": [
    "def make_mask(center,diam,z,width,height,spacing,origin):\n",
    "    mask = np.zeros([height,width]) # 0's everywhere except nodule swapping x,y to match img\n",
    "    #convert to nodule space from world coordinates\n",
    "\n",
    "    # Defining the voxel range in which the nodule falls\n",
    "    v_center = (center-origin)/spacing\n",
    "    v_diam = int((diam+5)/spacing[0])\n",
    "    v_xmin = np.max([0,int(v_center[0]-v_diam)])\n",
    "    v_xmax = np.min([width-1,int(v_center[0]+v_diam)])\n",
    "    v_ymin = np.max([0,int(v_center[1]-v_diam)]) \n",
    "    v_ymax = np.min([height-1,int(v_center[1]+v_diam)])\n",
    "\n",
    "    v_xrange = range(v_xmin,v_xmax+1)\n",
    "    v_yrange = range(v_ymin,v_ymax+1)\n",
    "\n",
    "    # Convert back to world coordinates for distance calculation\n",
    "    x_data = [x*spacing[0]+origin[0] for x in range(width)]\n",
    "    y_data = [x*spacing[1]+origin[1] for x in range(height)]\n",
    "    for v_x in v_xrange:\n",
    "        for v_y in v_yrange:\n",
    "            p_x = spacing[0]*v_x + origin[0]\n",
    "            p_y = spacing[1]*v_y + origin[1]\n",
    "            if np.linalg.norm(center-np.array([p_x,p_y,z]))<=diam:\n",
    "                mask[int((p_y-origin[1])/spacing[1]),int((p_x-origin[0])/spacing[0])] = 1.0\n",
    "    return(mask)"
   ]
  },
  {
   "cell_type": "code",
   "execution_count": 18,
   "metadata": {},
   "outputs": [],
   "source": [
    "def matrix2int16(matrix):\n",
    "    ''' \n",
    "matrix must be a numpy array NXN\n",
    "Returns uint16 version\n",
    "    '''\n",
    "    m_min= np.min(matrix)\n",
    "    m_max= np.max(matrix)\n",
    "    matrix = matrix-m_min\n",
    "    return(np.array(np.rint( (matrix-m_min)/float(m_max-m_min) * 65535.0),dtype=np.uint16))\n"
   ]
  },
  {
   "cell_type": "code",
   "execution_count": 19,
   "metadata": {},
   "outputs": [],
   "source": [
    "train_pts =[0,1,2,3,4,5,6,7,8]\n",
    "val_pts = [9]\n",
    "test_pts =[9]"
   ]
  },
  {
   "cell_type": "code",
   "execution_count": 20,
   "metadata": {},
   "outputs": [],
   "source": [
    "np.save('train_pts.npy',train_pts)\n",
    "np.save('val_pts.npy',val_pts)\n",
    "np.save('test_pts.npy',test_pts)\n",
    "\n",
    "train_pts = np.load('train_pts.npy')\n",
    "val_pts = np.load('val_pts.npy')\n",
    "test_pts = np.load('test_pts.npy')"
   ]
  },
  {
   "cell_type": "code",
   "execution_count": 21,
   "metadata": {},
   "outputs": [],
   "source": [
    "luna_path=\"/LUNA16/\"\n",
    "tr_output_img_path=\"/LUNA16/2ddataset/train9/images/\"\n",
    "tr_output_mask_path=\"/LUNA16/2ddataset/train9/labels/\"\n",
    "\n",
    "if not os.path.isdir(tr_output_img_path):\n",
    "    os.makedirs(tr_output_img_path)\n",
    "if not os.path.isdir(tr_output_mask_path):\n",
    "    os.makedirs(tr_output_mask_path)\n",
    "\n",
    "v_output_img_path=\"/LUNA16/2ddataset/val0/images/\"\n",
    "v_output_mask_path=\"/LUNA16/2ddataset/val0/labels/\"\n",
    "\n",
    "if not os.path.isdir(v_output_img_path):\n",
    "    os.makedirs(v_output_img_path)\n",
    "if not os.path.isdir(v_output_mask_path):\n",
    "    os.makedirs(v_output_mask_path)\n",
    "    \n",
    "ts_output_img_path=\"/LUNA16/2ddataset/test9/images/\"\n",
    "ts_output_mask_path=\"/LUNA16/2ddataset/test9/labels/\"\n",
    "\n",
    "if not os.path.isdir(ts_output_img_path):\n",
    "    os.makedirs(ts_output_img_path)\n",
    "if not os.path.isdir(ts_output_mask_path):\n",
    "    os.makedirs(ts_output_mask_path)\n"
   ]
  },
  {
   "cell_type": "code",
   "execution_count": 22,
   "metadata": {},
   "outputs": [
    {
     "name": "stdout",
     "output_type": "stream",
     "text": [
      "Set: 0\n"
     ]
    },
    {
     "name": "stderr",
     "output_type": "stream",
     "text": [
      "/tmp/ipykernel_772681/2604667005.py:9: TqdmDeprecationWarning:\n",
      "\n",
      "This function will be removed in tqdm==5.0.0\n",
      "Please use `tqdm.notebook.tqdm` instead of `tqdm.tqdm_notebook`\n",
      "\n"
     ]
    },
    {
     "data": {
      "application/vnd.jupyter.widget-view+json": {
       "model_id": "fb2d053fa91849e8aadd451805baa7e0",
       "version_major": 2,
       "version_minor": 0
      },
      "text/plain": [
       "  0%|          | 0/89 [00:00<?, ?it/s]"
      ]
     },
     "metadata": {},
     "output_type": "display_data"
    },
    {
     "name": "stdout",
     "output_type": "stream",
     "text": [
      "Set: 1\n"
     ]
    },
    {
     "name": "stderr",
     "output_type": "stream",
     "text": [
      "/tmp/ipykernel_772681/2604667005.py:9: TqdmDeprecationWarning:\n",
      "\n",
      "This function will be removed in tqdm==5.0.0\n",
      "Please use `tqdm.notebook.tqdm` instead of `tqdm.tqdm_notebook`\n",
      "\n"
     ]
    },
    {
     "data": {
      "application/vnd.jupyter.widget-view+json": {
       "model_id": "0f8091778e2b4c72b3664093259d1d76",
       "version_major": 2,
       "version_minor": 0
      },
      "text/plain": [
       "  0%|          | 0/89 [00:00<?, ?it/s]"
      ]
     },
     "metadata": {},
     "output_type": "display_data"
    },
    {
     "name": "stdout",
     "output_type": "stream",
     "text": [
      "Set: 2\n"
     ]
    },
    {
     "name": "stderr",
     "output_type": "stream",
     "text": [
      "/tmp/ipykernel_772681/2604667005.py:9: TqdmDeprecationWarning:\n",
      "\n",
      "This function will be removed in tqdm==5.0.0\n",
      "Please use `tqdm.notebook.tqdm` instead of `tqdm.tqdm_notebook`\n",
      "\n"
     ]
    },
    {
     "data": {
      "application/vnd.jupyter.widget-view+json": {
       "model_id": "ecb95b4138644dbd851fcd8f14f63dd2",
       "version_major": 2,
       "version_minor": 0
      },
      "text/plain": [
       "  0%|          | 0/89 [00:00<?, ?it/s]"
      ]
     },
     "metadata": {},
     "output_type": "display_data"
    },
    {
     "name": "stdout",
     "output_type": "stream",
     "text": [
      "Set: 3\n"
     ]
    },
    {
     "name": "stderr",
     "output_type": "stream",
     "text": [
      "/tmp/ipykernel_772681/2604667005.py:9: TqdmDeprecationWarning:\n",
      "\n",
      "This function will be removed in tqdm==5.0.0\n",
      "Please use `tqdm.notebook.tqdm` instead of `tqdm.tqdm_notebook`\n",
      "\n"
     ]
    },
    {
     "data": {
      "application/vnd.jupyter.widget-view+json": {
       "model_id": "4f20a00b1a6f498782312d7fa7407147",
       "version_major": 2,
       "version_minor": 0
      },
      "text/plain": [
       "  0%|          | 0/89 [00:00<?, ?it/s]"
      ]
     },
     "metadata": {},
     "output_type": "display_data"
    },
    {
     "name": "stdout",
     "output_type": "stream",
     "text": [
      "Set: 4\n"
     ]
    },
    {
     "name": "stderr",
     "output_type": "stream",
     "text": [
      "/tmp/ipykernel_772681/2604667005.py:9: TqdmDeprecationWarning:\n",
      "\n",
      "This function will be removed in tqdm==5.0.0\n",
      "Please use `tqdm.notebook.tqdm` instead of `tqdm.tqdm_notebook`\n",
      "\n"
     ]
    },
    {
     "data": {
      "application/vnd.jupyter.widget-view+json": {
       "model_id": "d9de53a3a60f4f1c90b394aae0c52832",
       "version_major": 2,
       "version_minor": 0
      },
      "text/plain": [
       "  0%|          | 0/89 [00:00<?, ?it/s]"
      ]
     },
     "metadata": {},
     "output_type": "display_data"
    },
    {
     "name": "stdout",
     "output_type": "stream",
     "text": [
      "Set: 5\n"
     ]
    },
    {
     "name": "stderr",
     "output_type": "stream",
     "text": [
      "/tmp/ipykernel_772681/2604667005.py:9: TqdmDeprecationWarning:\n",
      "\n",
      "This function will be removed in tqdm==5.0.0\n",
      "Please use `tqdm.notebook.tqdm` instead of `tqdm.tqdm_notebook`\n",
      "\n"
     ]
    },
    {
     "data": {
      "application/vnd.jupyter.widget-view+json": {
       "model_id": "81758dca4b7943789e32ef742e290599",
       "version_major": 2,
       "version_minor": 0
      },
      "text/plain": [
       "  0%|          | 0/89 [00:00<?, ?it/s]"
      ]
     },
     "metadata": {},
     "output_type": "display_data"
    },
    {
     "name": "stdout",
     "output_type": "stream",
     "text": [
      "Set: 6\n"
     ]
    },
    {
     "name": "stderr",
     "output_type": "stream",
     "text": [
      "/tmp/ipykernel_772681/2604667005.py:9: TqdmDeprecationWarning:\n",
      "\n",
      "This function will be removed in tqdm==5.0.0\n",
      "Please use `tqdm.notebook.tqdm` instead of `tqdm.tqdm_notebook`\n",
      "\n"
     ]
    },
    {
     "data": {
      "application/vnd.jupyter.widget-view+json": {
       "model_id": "9591bda8edd048dbb93ec43537c5fcc5",
       "version_major": 2,
       "version_minor": 0
      },
      "text/plain": [
       "  0%|          | 0/89 [00:00<?, ?it/s]"
      ]
     },
     "metadata": {},
     "output_type": "display_data"
    },
    {
     "name": "stdout",
     "output_type": "stream",
     "text": [
      "Set: 7\n"
     ]
    },
    {
     "name": "stderr",
     "output_type": "stream",
     "text": [
      "/tmp/ipykernel_772681/2604667005.py:9: TqdmDeprecationWarning:\n",
      "\n",
      "This function will be removed in tqdm==5.0.0\n",
      "Please use `tqdm.notebook.tqdm` instead of `tqdm.tqdm_notebook`\n",
      "\n"
     ]
    },
    {
     "data": {
      "application/vnd.jupyter.widget-view+json": {
       "model_id": "2e6c3a9666c74d86ab1c991fb8495574",
       "version_major": 2,
       "version_minor": 0
      },
      "text/plain": [
       "  0%|          | 0/89 [00:00<?, ?it/s]"
      ]
     },
     "metadata": {},
     "output_type": "display_data"
    },
    {
     "name": "stdout",
     "output_type": "stream",
     "text": [
      "Set: 8\n"
     ]
    },
    {
     "name": "stderr",
     "output_type": "stream",
     "text": [
      "/tmp/ipykernel_772681/2604667005.py:9: TqdmDeprecationWarning:\n",
      "\n",
      "This function will be removed in tqdm==5.0.0\n",
      "Please use `tqdm.notebook.tqdm` instead of `tqdm.tqdm_notebook`\n",
      "\n"
     ]
    },
    {
     "data": {
      "application/vnd.jupyter.widget-view+json": {
       "model_id": "52037f28dfdf4682af4099b005591a8c",
       "version_major": 2,
       "version_minor": 0
      },
      "text/plain": [
       "  0%|          | 0/88 [00:00<?, ?it/s]"
      ]
     },
     "metadata": {},
     "output_type": "display_data"
    }
   ],
   "source": [
    "fcount = 0\n",
    "for tr in list(train_pts):\n",
    "    print('Set:',tr)\n",
    "    luna_subset_path=\"/LUNA16/subset\"+str(tr)+\"/\"\n",
    "    file_list=glob(luna_subset_path+\"*.mhd\")\n",
    "    df_node = pd.read_csv(luna_path+\"annotations.csv\")\n",
    "    df_node[\"file\"] = df_node[\"seriesuid\"].apply(get_filename)\n",
    "    df_node = df_node.dropna()\n",
    "    for img_file in tq(file_list):       \n",
    "        #print \"Getting mask for image file %s\" % img_file.replace(luna_subset_path,\"\")\n",
    "        mini_df = df_node[df_node[\"file\"]==img_file] #get all nodules associate with file\n",
    "#         print(len(mini_df))\n",
    "        if len(mini_df)>0:       # some files may not have a nodule--skipping those \n",
    "            biggest_node = np.argsort(mini_df[\"diameter_mm\"].values)[-1]   # just using the biggest node\n",
    "            node_x = mini_df[\"coordX\"].values[biggest_node]\n",
    "            node_y = mini_df[\"coordY\"].values[biggest_node]\n",
    "            node_z = mini_df[\"coordZ\"].values[biggest_node]\n",
    "            diam = mini_df[\"diameter_mm\"].values[biggest_node]\n",
    "\n",
    "            itk_img = sitk.ReadImage(img_file) \n",
    "            img_array = sitk.GetArrayFromImage(itk_img) # indexes are z,y,x (notice the ordering)\n",
    "            center = np.array([node_x,node_y,node_z])   # nodule center\n",
    "            origin = np.array(itk_img.GetOrigin())      # x,y,z  Origin in world coordinates (mm)\n",
    "            spacing = np.array(itk_img.GetSpacing())    # spacing of voxels in world coor. (mm)\n",
    "            v_center =np.rint((center-origin)/spacing)  # nodule center in voxel space (still x,y,z ordering)\n",
    "            num_z, height, width = img_array.shape\n",
    "\n",
    "            center = np.array([node_x, node_y, node_z])   # nodule center\n",
    "            v_center = np.rint((center-origin)/spacing) \n",
    "\n",
    "            for i_z in range(int(v_center[2])-1,int(v_center[2])+2):\n",
    "                mask = make_mask(center,diam,i_z*spacing[2]+origin[2],width,height,spacing,origin)\n",
    "                masks = mask\n",
    "    #             imgs = matrix2int16(img_array[i_z])\n",
    "                imgs = img_array[i_z]\n",
    "                middle = imgs[100:400,100:400]\n",
    "                mean = np.mean(middle)  \n",
    "                max = np.max(imgs)\n",
    "                min = np.min(imgs)\n",
    "                # To improve threshold finding, I'm moving the \n",
    "                # underflow and overflow on the pixel spectrum\n",
    "                imgs[imgs==max]=mean\n",
    "                imgs[imgs==min]=mean\n",
    "    #             print('orig:',img_array[i_z].max())\n",
    "    #             print('int16:',imgs.max())\n",
    "                np.save(tr_output_img_path+\"images_\"+str(fcount)+str(mini_df[\"seriesuid\"].unique())+\".npy\",imgs)\n",
    "                np.save(tr_output_mask_path+\"masks_\"+str(fcount)+str(mini_df[\"seriesuid\"].unique())+\".npy\",masks)\n",
    "\n",
    "                fcount +=1"
   ]
  },
  {
   "cell_type": "code",
   "execution_count": 23,
   "metadata": {},
   "outputs": [
    {
     "name": "stdout",
     "output_type": "stream",
     "text": [
      "Set: 9\n"
     ]
    },
    {
     "name": "stderr",
     "output_type": "stream",
     "text": [
      "/tmp/ipykernel_772681/3123314050.py:9: TqdmDeprecationWarning:\n",
      "\n",
      "This function will be removed in tqdm==5.0.0\n",
      "Please use `tqdm.notebook.tqdm` instead of `tqdm.tqdm_notebook`\n",
      "\n"
     ]
    },
    {
     "data": {
      "application/vnd.jupyter.widget-view+json": {
       "model_id": "db128f450db44c6b9767477b3eae27b1",
       "version_major": 2,
       "version_minor": 0
      },
      "text/plain": [
       "  0%|          | 0/88 [00:00<?, ?it/s]"
      ]
     },
     "metadata": {},
     "output_type": "display_data"
    }
   ],
   "source": [
    "fcount = 0\n",
    "for val in list(val_pts):\n",
    "    print('Set:',val)\n",
    "    luna_subset_path=\"/root/autodl-tmp/LUNA16/subset\"+str(val)+\"/\"\n",
    "    file_list=glob(luna_subset_path+\"*.mhd\")\n",
    "    df_node = pd.read_csv(luna_path+\"annotations.csv\")\n",
    "    df_node[\"file\"] = df_node[\"seriesuid\"].apply(get_filename)\n",
    "    df_node = df_node.dropna()\n",
    "    for img_file in tq(file_list):       \n",
    "        #print \"Getting mask for image file %s\" % img_file.replace(luna_subset_path,\"\")\n",
    "        mini_df = df_node[df_node[\"file\"]==img_file] #get all nodules associate with file\n",
    "#         print(len(mini_df))\n",
    "        if len(mini_df)>0:       # some files may not have a nodule--skipping those \n",
    "            biggest_node = np.argsort(mini_df[\"diameter_mm\"].values)[-1]   # just using the biggest node\n",
    "            node_x = mini_df[\"coordX\"].values[biggest_node]\n",
    "            node_y = mini_df[\"coordY\"].values[biggest_node]\n",
    "            node_z = mini_df[\"coordZ\"].values[biggest_node]\n",
    "            diam = mini_df[\"diameter_mm\"].values[biggest_node]\n",
    "\n",
    "            itk_img = sitk.ReadImage(img_file) \n",
    "            img_array = sitk.GetArrayFromImage(itk_img) # indexes are z,y,x (notice the ordering)\n",
    "            center = np.array([node_x,node_y,node_z])   # nodule center\n",
    "            origin = np.array(itk_img.GetOrigin())      # x,y,z  Origin in world coordinates (mm)\n",
    "            spacing = np.array(itk_img.GetSpacing())    # spacing of voxels in world coor. (mm)\n",
    "            v_center =np.rint((center-origin)/spacing)  # nodule center in voxel space (still x,y,z ordering)\n",
    "            num_z, height, width = img_array.shape\n",
    "\n",
    "            center = np.array([node_x, node_y, node_z])   # nodule center\n",
    "            v_center = np.rint((center-origin)/spacing) \n",
    "\n",
    "            for i_z in range(int(v_center[2])-1,int(v_center[2])+2):\n",
    "                mask = make_mask(center,diam,i_z*spacing[2]+origin[2],width,height,spacing,origin)\n",
    "                masks = mask\n",
    "    #             imgs = mavalix2int16(img_array[i_z])\n",
    "                imgs = img_array[i_z]\n",
    "                middle = imgs[100:400,100:400]\n",
    "                mean = np.mean(middle)  \n",
    "                max = np.max(imgs)\n",
    "                min = np.min(imgs)\n",
    "                # To improve threshold finding, I'm moving the \n",
    "                # underflow and overflow on the pixel specvalum\n",
    "                imgs[imgs==max]=mean\n",
    "                imgs[imgs==min]=mean\n",
    "    #             print('orig:',img_array[i_z].max())\n",
    "    #             print('int16:',imgs.max())\n",
    "                np.save(v_output_img_path+\"images_\"+str(fcount)+str(mini_df[\"seriesuid\"].unique())+\".npy\",imgs)\n",
    "                np.save(v_output_mask_path+\"masks_\"+str(fcount)+str(mini_df[\"seriesuid\"].unique())+\".npy\",masks)\n",
    "\n",
    "                fcount +=1"
   ]
  },
  {
   "cell_type": "code",
   "execution_count": 24,
   "metadata": {},
   "outputs": [
    {
     "name": "stdout",
     "output_type": "stream",
     "text": [
      "Set: 9\n"
     ]
    },
    {
     "name": "stderr",
     "output_type": "stream",
     "text": [
      "/tmp/ipykernel_772681/4000980617.py:9: TqdmDeprecationWarning:\n",
      "\n",
      "This function will be removed in tqdm==5.0.0\n",
      "Please use `tqdm.notebook.tqdm` instead of `tqdm.tqdm_notebook`\n",
      "\n"
     ]
    },
    {
     "data": {
      "application/vnd.jupyter.widget-view+json": {
       "model_id": "0662ae9a7d1e45898972394e72d7efd6",
       "version_major": 2,
       "version_minor": 0
      },
      "text/plain": [
       "  0%|          | 0/88 [00:00<?, ?it/s]"
      ]
     },
     "metadata": {},
     "output_type": "display_data"
    }
   ],
   "source": [
    "fcount = 0\n",
    "for ts in list(test_pts):\n",
    "    print('Set:',ts)\n",
    "    luna_subset_path=\"/root/autodl-tmp/LUNA16/subset\"+str(ts)+\"/\"\n",
    "    file_list=glob(luna_subset_path+\"*.mhd\")\n",
    "    df_node = pd.read_csv(luna_path+\"annotations.csv\")\n",
    "    df_node[\"file\"] = df_node[\"seriesuid\"].apply(get_filename)\n",
    "    df_node = df_node.dropna()\n",
    "    for img_file in tq(file_list):       \n",
    "        #print \"Getting mask for image file %s\" % img_file.replace(luna_subset_path,\"\")\n",
    "        mini_df = df_node[df_node[\"file\"]==img_file] #get all nodules associate with file\n",
    "#         print(len(mini_df))\n",
    "        if len(mini_df)>0:       # some files may not have a nodule--skipping those \n",
    "            biggest_node = np.argsort(mini_df[\"diameter_mm\"].values)[-1]  # just using the biggest node\n",
    "            node_x = mini_df[\"coordX\"].values[biggest_node]\n",
    "            node_y = mini_df[\"coordY\"].values[biggest_node]\n",
    "            node_z = mini_df[\"coordZ\"].values[biggest_node]\n",
    "            diam = mini_df[\"diameter_mm\"].values[biggest_node]\n",
    "\n",
    "            itk_img = sitk.ReadImage(img_file) \n",
    "            img_array = sitk.GetArrayFromImage(itk_img) # indexes are z,y,x (notice the ordering)\n",
    "            center = np.array([node_x,node_y,node_z])   # nodule center\n",
    "            origin = np.array(itk_img.GetOrigin())      # x,y,z  Origin in world coordinates (mm)\n",
    "            spacing = np.array(itk_img.GetSpacing())    # spacing of voxels in world coor. (mm)\n",
    "            v_center =np.rint((center-origin)/spacing)  # nodule center in voxel space (still x,y,z ordering)\n",
    "            num_z, height, width = img_array.shape\n",
    "\n",
    "#             center = np.array([node_x, node_y, node_z])   # nodule center\n",
    "#             v_center = np.rint((center-origin)/spacing) \n",
    "\n",
    "            for i_z in range(int(v_center[2])-1,int(v_center[2])+2):\n",
    "                mask = make_mask(center,diam,i_z*spacing[2]+origin[2],width,height,spacing,origin)\n",
    "                masks = mask\n",
    "    #             imgs = matsix2int16(img_array[i_z])\n",
    "                imgs = img_array[i_z]\n",
    "                middle = imgs[100:400,100:400]\n",
    "                mean = np.mean(middle)  \n",
    "                max = np.max(imgs)\n",
    "                min = np.min(imgs)\n",
    "                # To improve threshold finding, I'm moving the \n",
    "                # underflow and overflow on the pixel spectsum\n",
    "                imgs[imgs==max]=mean\n",
    "                imgs[imgs==min]=mean\n",
    "    #             print('orig:',img_array[i_z].max())\n",
    "    #             print('int16:',imgs.max())\n",
    "                np.save(ts_output_img_path+\"images_\"+str(fcount)+str(mini_df[\"seriesuid\"].unique())+\".npy\",imgs)\n",
    "                np.save(ts_output_mask_path+\"masks_\"+str(fcount)+str(mini_df[\"seriesuid\"].unique())+\".npy\",masks)\n",
    "\n",
    "                fcount +=1"
   ]
  },
  {
   "cell_type": "code",
   "execution_count": 25,
   "metadata": {},
   "outputs": [],
   "source": [
    "#after this step the .mhd files are processed and saved into 2 .npy files\n",
    "#image_* is npy of the image\n",
    "#mask_* is npy of the  mask"
   ]
  },
  {
   "cell_type": "code",
   "execution_count": 26,
   "metadata": {},
   "outputs": [
    {
     "name": "stdout",
     "output_type": "stream",
     "text": [
      "value of x= 121.9087601\n",
      "value of y= -67.41580071\n",
      "value of z= -158.8001927\n",
      "value of diameter= 9.061649841\n"
     ]
    }
   ],
   "source": [
    "print(\"value of x=\",node_x)\n",
    "print(\"value of y=\",node_y)\n",
    "print(\"value of z=\",node_z)\n",
    "print(\"value of diameter=\",diam)"
   ]
  },
  {
   "cell_type": "code",
   "execution_count": 27,
   "metadata": {
    "scrolled": false
   },
   "outputs": [],
   "source": [
    "#imgs = np.ndarray([3,height,width],dtype=np.float32)#\n",
    "#masks = np.ndarray([3,height,width],dtype=np.uint8)\n",
    "\n"
   ]
  },
  {
   "cell_type": "code",
   "execution_count": 28,
   "metadata": {},
   "outputs": [
    {
     "ename": "FileNotFoundError",
     "evalue": "[Errno 2] No such file or directory: '/root/autodl-tmp/2ddataset/val9/images/images_1.npy'",
     "output_type": "error",
     "traceback": [
      "\u001b[0;31m---------------------------------------------------------------------------\u001b[0m",
      "\u001b[0;31mFileNotFoundError\u001b[0m                         Traceback (most recent call last)",
      "\u001b[1;32m/root/Code/test/Lung-nodule-detection-LUNA-16/data_prep/luna_mask.ipynb Cell 14'\u001b[0m in \u001b[0;36m<cell line: 1>\u001b[0;34m()\u001b[0m\n\u001b[0;32m----> <a href='vscode-notebook-cell://ssh-remote%2Bregion-8.seetacloud.com/root/Code/test/Lung-nodule-detection-LUNA-16/data_prep/luna_mask.ipynb#ch0000013vscode-remote?line=0'>1</a>\u001b[0m imgs \u001b[39m=\u001b[39m np\u001b[39m.\u001b[39;49mload(v_output_img_path\u001b[39m+\u001b[39;49m\u001b[39m'\u001b[39;49m\u001b[39mimages_1.npy\u001b[39;49m\u001b[39m'\u001b[39;49m)\n\u001b[1;32m      <a href='vscode-notebook-cell://ssh-remote%2Bregion-8.seetacloud.com/root/Code/test/Lung-nodule-detection-LUNA-16/data_prep/luna_mask.ipynb#ch0000013vscode-remote?line=1'>2</a>\u001b[0m \u001b[39mprint\u001b[39m(np\u001b[39m.\u001b[39mshape(imgs))\n\u001b[1;32m      <a href='vscode-notebook-cell://ssh-remote%2Bregion-8.seetacloud.com/root/Code/test/Lung-nodule-detection-LUNA-16/data_prep/luna_mask.ipynb#ch0000013vscode-remote?line=2'>3</a>\u001b[0m \u001b[39mprint\u001b[39m(\u001b[39m'\u001b[39m\u001b[39mImg min:\u001b[39m\u001b[39m'\u001b[39m,imgs\u001b[39m.\u001b[39mmin(),\u001b[39m'\u001b[39m\u001b[39mImg max:\u001b[39m\u001b[39m'\u001b[39m,imgs\u001b[39m.\u001b[39mmax())\n",
      "File \u001b[0;32m~/miniconda3/lib/python3.8/site-packages/numpy/lib/npyio.py:417\u001b[0m, in \u001b[0;36mload\u001b[0;34m(file, mmap_mode, allow_pickle, fix_imports, encoding)\u001b[0m\n\u001b[1;32m    415\u001b[0m     own_fid \u001b[39m=\u001b[39m \u001b[39mFalse\u001b[39;00m\n\u001b[1;32m    416\u001b[0m \u001b[39melse\u001b[39;00m:\n\u001b[0;32m--> 417\u001b[0m     fid \u001b[39m=\u001b[39m stack\u001b[39m.\u001b[39menter_context(\u001b[39mopen\u001b[39;49m(os_fspath(file), \u001b[39m\"\u001b[39;49m\u001b[39mrb\u001b[39;49m\u001b[39m\"\u001b[39;49m))\n\u001b[1;32m    418\u001b[0m     own_fid \u001b[39m=\u001b[39m \u001b[39mTrue\u001b[39;00m\n\u001b[1;32m    420\u001b[0m \u001b[39m# Code to distinguish from NumPy binary files and pickles.\u001b[39;00m\n",
      "\u001b[0;31mFileNotFoundError\u001b[0m: [Errno 2] No such file or directory: '/root/autodl-tmp/2ddataset/val9/images/images_1.npy'"
     ]
    }
   ],
   "source": [
    "imgs = np.load(v_output_img_path+'images_1.npy')\n",
    "print(np.shape(imgs))\n",
    "print('Img min:',imgs.min(),'Img max:',imgs.max())\n",
    "# imgs[imgs==imgs.min()] = 0\n",
    "\n",
    "masks = np.load(v_output_mask_path+'masks_1.npy')\n",
    "\n",
    "plt.figure(figsize=[20,10])\n",
    "plt.subplot(131)\n",
    "plt.imshow(imgs,cmap='gray')\n",
    "plt.subplot(132)\n",
    "plt.imshow(masks,cmap='gray')\n",
    "plt.subplot(133)\n",
    "plt.imshow((imgs)*masks,cmap='gray')\n",
    "\n",
    "# imgs = np.load(output_path+'images_1.npy')\n",
    "# masks = np.load(output_path+'masks_1.npy')\n",
    "\n",
    "# plt.figure(figsize=[20,10])\n",
    "# plt.subplot(131)\n",
    "# plt.imshow(imgs,cmap='gray')\n",
    "# plt.subplot(132)\n",
    "# plt.imshow(masks,cmap='gray')\n",
    "# plt.subplot(133)\n",
    "# plt.imshow(imgs*masks,cmap='gray')\n",
    "\n",
    "# imgs = np.load(output_path+'images_2.npy')\n",
    "# masks = np.load(output_path+'masks_2.npy')\n",
    "\n",
    "# plt.figure(figsize=[20,10])\n",
    "# plt.subplot(131)\n",
    "# plt.imshow(imgs,cmap='gray')\n",
    "# plt.subplot(132)\n",
    "# plt.imshow(masks,cmap='gray')\n",
    "# plt.subplot(133)\n",
    "# plt.imshow(imgs*masks,cmap='gray')"
   ]
  },
  {
   "cell_type": "code",
   "execution_count": null,
   "metadata": {},
   "outputs": [
    {
     "name": "stdout",
     "output_type": "stream",
     "text": [
      "(512, 512)\n",
      "Img min: -1015 Img max: 1657\n"
     ]
    },
    {
     "data": {
      "text/plain": [
       "<matplotlib.image.AxesImage at 0x7ff64c0acdf0>"
      ]
     },
     "execution_count": 15,
     "metadata": {},
     "output_type": "execute_result"
    },
    {
     "data": {
      "image/png": "[encoded data removed]",
      "text/plain": [
       "<Figure size 1440x720 with 3 Axes>"
      ]
     },
     "metadata": {
      "needs_background": "light"
     },
     "output_type": "display_data"
    }
   ],
   "source": [
    "imgs = np.load(tr_output_img_path+'images_1.npy')\n",
    "print(np.shape(imgs))\n",
    "print('Img min:',imgs.min(),'Img max:',imgs.max())\n",
    "# imgs[imgs==imgs.min()] = 0\n",
    "\n",
    "masks = np.load(tr_output_mask_path+'masks_1.npy')\n",
    "\n",
    "plt.figure(figsize=[20,10])\n",
    "plt.subplot(131)\n",
    "plt.imshow(imgs,cmap='gray')\n",
    "plt.subplot(132)\n",
    "plt.imshow(masks,cmap='gray')\n",
    "plt.subplot(133)\n",
    "plt.imshow((imgs)*masks,cmap='gray')\n"
   ]
  },
  {
   "cell_type": "code",
   "execution_count": null,
   "metadata": {},
   "outputs": [],
   "source": []
  }
 ],
 "metadata": {
  "kernelspec": {
   "display_name": "Python 3.8.10 ('base': conda)",
   "language": "python",
   "name": "python3"
  },
  "language_info": {
   "codemirror_mode": {
    "name": "ipython",
    "version": 3
   },
   "file_extension": ".py",
   "mimetype": "text/x-python",
   "name": "python",
   "nbconvert_exporter": "python",
   "pygments_lexer": "ipython3",
   "version": "3.8.10"
  },
  "vscode": {
   "interpreter": {
    "hash": "2f394aca7ca06fed1e6064aef884364492d7cdda3614a461e02e6407fc40ba69"
   }
  }
 },
 "nbformat": 4,
 "nbformat_minor": 2
}
